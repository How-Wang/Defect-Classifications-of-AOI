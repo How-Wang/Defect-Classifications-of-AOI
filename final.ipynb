{
 "cells": [
  {
   "cell_type": "markdown",
   "metadata": {},
   "source": [
    "# Defect Classifications of AOI"
   ]
  },
  {
   "cell_type": "code",
   "execution_count": 46,
   "metadata": {},
   "outputs": [],
   "source": [
    "import torch\n",
    "import torch.nn as nn\n",
    "import torch.nn.functional as F\n",
    "from torch.utils.data import Dataset, DataLoader\n",
    "import pandas as pd\n",
    "import numpy as np\n",
    "from PIL import Image\n",
    "import os\n",
    "from torchvision import transforms\n",
    "import torchvision.models as models\n",
    "import matplotlib.pyplot as plt\n",
    "from tqdm import tqdm"
   ]
  },
  {
   "cell_type": "markdown",
   "metadata": {},
   "source": [
    "## 1. Data preprocess"
   ]
  },
  {
   "cell_type": "code",
   "execution_count": 2,
   "metadata": {},
   "outputs": [
    {
     "data": {
      "text/plain": [
       "nan"
      ]
     },
     "execution_count": 2,
     "metadata": {},
     "output_type": "execute_result"
    }
   ],
   "source": [
    "test_df = pd.read_csv('aoi/test.csv')\n",
    "test_df.loc[0, \"Label\"]"
   ]
  },
  {
   "cell_type": "code",
   "execution_count": 3,
   "metadata": {},
   "outputs": [],
   "source": [
    "class CustomDataset(Dataset):\n",
    "    def __init__(self, csv_path, images_folder, transform = False):\n",
    "        self.df = pd.read_csv(csv_path)\n",
    "        self.images_folder = images_folder\n",
    "        self.transform = transform\n",
    "\n",
    "    def __len__(self):\n",
    "        return len(self.df)\n",
    "    \n",
    "    def __getitem__(self, index):\n",
    "        filename = self.df.loc[index, \"ID\"]\n",
    "        label = self.df.loc[index, \"Label\"].item()\n",
    "        image = Image.open(os.path.join(self.images_folder, filename))\n",
    "        if self.transform:\n",
    "            image = self.transform(image)\n",
    "        return image, label"
   ]
  },
  {
   "cell_type": "code",
   "execution_count": 4,
   "metadata": {},
   "outputs": [],
   "source": [
    "train_transform = transforms.Compose([\n",
    "    transforms.ToTensor()\n",
    "])\n",
    "test_transform = transforms.Compose([\n",
    "    transforms.ToTensor()\n",
    "])"
   ]
  },
  {
   "cell_type": "code",
   "execution_count": 48,
   "metadata": {},
   "outputs": [],
   "source": [
    "train_dataset = CustomDataset('aoi/train.csv','aoi/train_images', transform=train_transform)\n",
    "test_dataset = CustomDataset('aoi/test.csv','aoi/test_images', transform=test_transform)\n",
    "train_dataloader = DataLoader(train_dataset, batch_size=18, shuffle=True)\n",
    "test_dataloader = DataLoader(test_dataset, batch_size=1, shuffle=False)   "
   ]
  },
  {
   "cell_type": "code",
   "execution_count": 6,
   "metadata": {},
   "outputs": [
    {
     "name": "stdout",
     "output_type": "stream",
     "text": [
      "torch.Size([18, 1, 512, 512])\n",
      "torch.Size([18])\n"
     ]
    }
   ],
   "source": [
    "for images, labels in train_dataloader:\n",
    "    print(images.shape)\n",
    "    print(labels.shape)\n",
    "    break"
   ]
  },
  {
   "cell_type": "markdown",
   "metadata": {},
   "source": [
    "## 2. PSPNet Model\n",
    "- extract feature based on Conv\n",
    "- Use Pyramid Pooling, Onebyone Conv\n",
    "- Append Upsampling\n",
    "- Conv + Linear to classify\n",
    "- all from scratch"
   ]
  },
  {
   "cell_type": "code",
   "execution_count": 13,
   "metadata": {},
   "outputs": [],
   "source": [
    "EPOCHS = 10"
   ]
  },
  {
   "cell_type": "code",
   "execution_count": 9,
   "metadata": {},
   "outputs": [],
   "source": [
    "class TextureCNN(nn.Module):\n",
    "    def __init__(self, num_classes):\n",
    "        super(TextureCNN, self).__init__()\n",
    "        \n",
    "        # Conv layers\n",
    "        self.features = nn.Sequential(\n",
    "            nn.Conv2d(in_channels=1, out_channels=16, kernel_size=3, padding=1), # output size (N, 16, 512, 512)\n",
    "            nn.ReLU(),\n",
    "            nn.MaxPool2d(2), # output size (N, 16, 256, 256)\n",
    "            nn.Conv2d(in_channels=16, out_channels=32, kernel_size=3, padding=1), # output size (N, 32, 256, 256)\n",
    "            nn.ReLU(),\n",
    "            nn.MaxPool2d(2), # output size (N, 32, 128, 128)\n",
    "        )\n",
    "        # Spatial Pyramid Pooling layers\n",
    "        self.pool1 = nn.AdaptiveMaxPool2d((1, 1)) # output size (N, 32, 1, 1)\n",
    "        self.pool2 = nn.AdaptiveMaxPool2d((2, 2)) # output size (N, 32, 2, 2)\n",
    "        self.pool3 = nn.AdaptiveMaxPool2d((3, 3)) # output size (N, 32, 3, 3)\n",
    "        self.pool4 = nn.AdaptiveMaxPool2d((6, 6)) # output size (N, 32, 6, 6)\n",
    "        self.con1 = nn.Conv2d(in_channels=32, out_channels=1, kernel_size=1, stride=1, padding=0) # output size (N, 1, 1, 1)\n",
    "        self.con2 = nn.Conv2d(in_channels=32, out_channels=1, kernel_size=1, stride=1, padding=0) # output size (N, 1, 2, 2)\n",
    "        self.con3 = nn.Conv2d(in_channels=32, out_channels=1, kernel_size=1, stride=1, padding=0) # output size (N, 1, 3, 3)\n",
    "        self.con4 = nn.Conv2d(in_channels=32, out_channels=1, kernel_size=1, stride=1, padding=0) # output size (N, 1, 6, 6)\n",
    "        # Upsampling layers\n",
    "        self.upsample1 = nn.Upsample(scale_factor=128/1, mode='bilinear', align_corners=True) # output size (N, 1, 128, 128)\n",
    "        self.upsample2 = nn.Upsample(scale_factor=128/2, mode='bilinear', align_corners=True) # output size (N, 1, 128, 128)\n",
    "        self.upsample3 = nn.Upsample(scale_factor=128/3, mode='bilinear', align_corners=True) # output size (N, 1, 128, 128)\n",
    "        self.upsample4 = nn.Upsample(scale_factor=128/6, mode='bilinear', align_corners=True) # output size (N, 1, 128, 128)\n",
    "        # Conv Classifier layers\n",
    "        self.classifier = nn.Sequential(\n",
    "            nn.Conv2d(in_channels=36, out_channels=18, kernel_size=3, stride=2, padding=1), # output size (N, 18, 64, 64)\n",
    "            nn.ReLU(),\n",
    "            nn.MaxPool2d(2), # output size (N, 18, 32, 32)\n",
    "            nn.Conv2d(in_channels=18, out_channels=9, kernel_size=3, stride=2, padding=1), # output size (N, 9, 16, 16)\n",
    "            nn.ReLU(),\n",
    "            nn.MaxPool2d(2), # output size (N, 9, 8, 8)\n",
    "            nn.Flatten(), # output size (N, 9 * 8 * 8)\n",
    "            nn.Linear(9 * 8 * 8, 128), # output size (N, 128)\n",
    "            nn.ReLU(),\n",
    "            nn.Linear(128, num_classes), # output size (N, 6)\n",
    "            nn.Sigmoid(),\n",
    "        )\n",
    "        \n",
    "    def forward(self, x):\n",
    "        # CNN layers\n",
    "        x = self.features(x)\n",
    "        \n",
    "        # Spatial Pyramid Pooling\n",
    "        x1 = self.pool1(x)\n",
    "        x1 = self.con1(x1) \n",
    "        x2 = self.pool2(x)\n",
    "        x2 = self.con2(x2)\n",
    "        x3 = self.pool3(x)\n",
    "        x3 = self.con3(x3)\n",
    "        x4 = self.pool4(x)\n",
    "        x4 = self.con4(x4)\n",
    "        \n",
    "        # Upsampling\n",
    "        x1 = self.upsample1(x1)\n",
    "        x2 = self.upsample2(x2)\n",
    "        x3 = self.upsample3(x3)\n",
    "        x4 = self.upsample4(x4)\n",
    "        \n",
    "        # Concatenate the pooled features\n",
    "        x = torch.cat((x1, x2, x3, x4, x), dim=1) # output size (N, 36, 128, 128)\n",
    "        \n",
    "        # Classifier\n",
    "        x = self.classifier(x)\n",
    "        return x"
   ]
  },
  {
   "cell_type": "code",
   "execution_count": null,
   "metadata": {},
   "outputs": [],
   "source": [
    "device = torch.device(\"cuda\" if torch.cuda.is_available() else \"cpu\")\n",
    "model = TextureCNN(num_classes=6).to(device)\n",
    "criterion = nn.CrossEntropyLoss()\n",
    "optimizer = torch.optim.Adam(model.parameters(), lr=0.001)\n",
    "\n",
    "loss_list = []\n",
    "\n",
    "for epoch in range(EPOCHS):\n",
    "    model.train()\n",
    "    for images, labels in train_dataloader:\n",
    "        images = images.to(device)\n",
    "        labels = labels.to(device)\n",
    "        \n",
    "        optimizer.zero_grad()\n",
    "        outputs = model(images)\n",
    "        loss = criterion(outputs, labels)\n",
    "        loss.backward()\n",
    "        optimizer.step()\n",
    "    loss_list.append(loss.item())\n",
    "    if (epoch+1) % 1 == 0 or epoch == 0:\n",
    "        print(f'Epoch [{epoch+1}/{EPOCHS}], Loss: {loss.item():.4f}')"
   ]
  },
  {
   "cell_type": "code",
   "execution_count": null,
   "metadata": {},
   "outputs": [],
   "source": [
    "fig = plt.figure(figsize=(8, 5))\n",
    "fig.add_subplot(2,2,(1,4))\n",
    "plt.style.use(\"ggplot\")\n",
    "\n",
    "plt.plot(range(1, EPOCHS+1), loss_list, label=\"train_loss\")\n",
    "\n",
    "plt.xlabel(\"Epoch #\")\n",
    "plt.ylabel(\"Loss\")\n",
    "plt.legend(loc=\"upper right\")\n",
    "\n",
    "plt.show()"
   ]
  },
  {
   "cell_type": "markdown",
   "metadata": {},
   "source": [
    "## 3. Baseline\n",
    "- extract feature based on Conv\n",
    "- Linear to classify\n",
    "- all from scratch"
   ]
  },
  {
   "cell_type": "code",
   "execution_count": 28,
   "metadata": {},
   "outputs": [],
   "source": [
    "class BasicCNN(nn.Module):\n",
    "    def __init__(self, num_classes):\n",
    "        super(BasicCNN, self).__init__()\n",
    "        \n",
    "        # Conv layers\n",
    "        self.features = nn.Sequential(\n",
    "            nn.Conv2d(in_channels=1, out_channels=32,kernel_size=3, padding=1), # output size (N, 32, 512, 512)\n",
    "            nn.ReLU(),\n",
    "            nn.MaxPool2d(2), # output size (N, 32, 256, 256)\n",
    "            nn.Conv2d(in_channels=32, out_channels=64, kernel_size=3, padding=1), # output size (N, 64, 256, 256)\n",
    "            nn.ReLU(),\n",
    "            nn.MaxPool2d(2), # output size (N, 64, 128, 128)\n",
    "        )\n",
    "        \n",
    "        # Conv Classifier layers\n",
    "        self.classifier = nn.Sequential(\n",
    "            nn.Flatten(), # output size (N, 1 * 8 * 8)\n",
    "            nn.Linear(64 * 128 * 128, 128), # output size (N, 64)\n",
    "            nn.ReLU(),\n",
    "            nn.Linear(128, num_classes), # output size (N, 6)\n",
    "            nn.Sigmoid(),\n",
    "        )\n",
    "        \n",
    "    def forward(self, x):\n",
    "        # CNN layers\n",
    "        x = self.features(x)\n",
    "        \n",
    "        # Classifier\n",
    "        x = self.classifier(x)\n",
    "        return x"
   ]
  },
  {
   "cell_type": "code",
   "execution_count": null,
   "metadata": {},
   "outputs": [],
   "source": [
    "device = torch.device(\"cuda\" if torch.cuda.is_available() else \"cpu\")\n",
    "model = BasicCNN(num_classes=6).to(device)\n",
    "\n",
    "criterion = nn.CrossEntropyLoss()\n",
    "optimizer = torch.optim.Adam(model.parameters(), lr=0.0001)\n",
    "\n",
    "loss_list = []\n",
    "\n",
    "for epoch in range(EPOCHS):\n",
    "    model.train()\n",
    "    for images, labels in train_dataloader:\n",
    "        images = images.to(device)\n",
    "        labels = labels.to(device)\n",
    "        \n",
    "        optimizer.zero_grad()\n",
    "        outputs = model(images)\n",
    "        loss = criterion(outputs, labels)\n",
    "        loss.backward()\n",
    "        optimizer.step()\n",
    "    loss_list.append(loss.item())\n",
    "    if (epoch+1) % 1 == 0 or epoch == 0:\n",
    "        print(f'Epoch [{epoch+1}/{EPOCHS}], Loss: {loss.item():.4f}')"
   ]
  },
  {
   "cell_type": "code",
   "execution_count": 24,
   "metadata": {},
   "outputs": [
    {
     "data": {
      "image/png": "[encoded data removed]",
      "text/plain": [
       "<Figure size 576x360 with 1 Axes>"
      ]
     },
     "metadata": {},
     "output_type": "display_data"
    }
   ],
   "source": [
    "fig = plt.figure(figsize=(8, 5))\n",
    "fig.add_subplot(2,2,(1,4))\n",
    "plt.style.use(\"ggplot\")\n",
    "\n",
    "plt.plot(range(1, EPOCHS+1), loss_list, label=\"train_loss\")\n",
    "\n",
    "plt.xlabel(\"Epoch #\")\n",
    "plt.ylabel(\"Loss\")\n",
    "plt.legend(loc=\"upper right\")\n",
    "\n",
    "plt.show()"
   ]
  },
  {
   "cell_type": "markdown",
   "metadata": {},
   "source": [
    "## 4. ResNet 18\n",
    "- first layer 3 channels change to 1 channel\n",
    "- last append a new linear \n",
    "    - input size 1000 \n",
    "    - output size class_num=6\n",
    "- only train above 2 layers, other layer use pretrained ResNet18"
   ]
  },
  {
   "cell_type": "code",
   "execution_count": 33,
   "metadata": {},
   "outputs": [
    {
     "name": "stdout",
     "output_type": "stream",
     "text": [
      "ResNet(\n",
      "  (conv1): Conv2d(3, 64, kernel_size=(7, 7), stride=(2, 2), padding=(3, 3), bias=False)\n",
      "  (bn1): BatchNorm2d(64, eps=1e-05, momentum=0.1, affine=True, track_running_stats=True)\n",
      "  (relu): ReLU(inplace=True)\n",
      "  (maxpool): MaxPool2d(kernel_size=3, stride=2, padding=1, dilation=1, ceil_mode=False)\n",
      "  (layer1): Sequential(\n",
      "    (0): BasicBlock(\n",
      "      (conv1): Conv2d(64, 64, kernel_size=(3, 3), stride=(1, 1), padding=(1, 1), bias=False)\n",
      "      (bn1): BatchNorm2d(64, eps=1e-05, momentum=0.1, affine=True, track_running_stats=True)\n",
      "      (relu): ReLU(inplace=True)\n",
      "      (conv2): Conv2d(64, 64, kernel_size=(3, 3), stride=(1, 1), padding=(1, 1), bias=False)\n",
      "      (bn2): BatchNorm2d(64, eps=1e-05, momentum=0.1, affine=True, track_running_stats=True)\n",
      "    )\n",
      "    (1): BasicBlock(\n",
      "      (conv1): Conv2d(64, 64, kernel_size=(3, 3), stride=(1, 1), padding=(1, 1), bias=False)\n",
      "      (bn1): BatchNorm2d(64, eps=1e-05, momentum=0.1, affine=True, track_running_stats=True)\n",
      "      (relu): ReLU(inplace=True)\n",
      "      (conv2): Conv2d(64, 64, kernel_size=(3, 3), stride=(1, 1), padding=(1, 1), bias=False)\n",
      "      (bn2): BatchNorm2d(64, eps=1e-05, momentum=0.1, affine=True, track_running_stats=True)\n",
      "    )\n",
      "  )\n",
      "  (layer2): Sequential(\n",
      "    (0): BasicBlock(\n",
      "      (conv1): Conv2d(64, 128, kernel_size=(3, 3), stride=(2, 2), padding=(1, 1), bias=False)\n",
      "      (bn1): BatchNorm2d(128, eps=1e-05, momentum=0.1, affine=True, track_running_stats=True)\n",
      "      (relu): ReLU(inplace=True)\n",
      "      (conv2): Conv2d(128, 128, kernel_size=(3, 3), stride=(1, 1), padding=(1, 1), bias=False)\n",
      "      (bn2): BatchNorm2d(128, eps=1e-05, momentum=0.1, affine=True, track_running_stats=True)\n",
      "      (downsample): Sequential(\n",
      "        (0): Conv2d(64, 128, kernel_size=(1, 1), stride=(2, 2), bias=False)\n",
      "        (1): BatchNorm2d(128, eps=1e-05, momentum=0.1, affine=True, track_running_stats=True)\n",
      "      )\n",
      "    )\n",
      "    (1): BasicBlock(\n",
      "      (conv1): Conv2d(128, 128, kernel_size=(3, 3), stride=(1, 1), padding=(1, 1), bias=False)\n",
      "      (bn1): BatchNorm2d(128, eps=1e-05, momentum=0.1, affine=True, track_running_stats=True)\n",
      "      (relu): ReLU(inplace=True)\n",
      "      (conv2): Conv2d(128, 128, kernel_size=(3, 3), stride=(1, 1), padding=(1, 1), bias=False)\n",
      "      (bn2): BatchNorm2d(128, eps=1e-05, momentum=0.1, affine=True, track_running_stats=True)\n",
      "    )\n",
      "  )\n",
      "  (layer3): Sequential(\n",
      "    (0): BasicBlock(\n",
      "      (conv1): Conv2d(128, 256, kernel_size=(3, 3), stride=(2, 2), padding=(1, 1), bias=False)\n",
      "      (bn1): BatchNorm2d(256, eps=1e-05, momentum=0.1, affine=True, track_running_stats=True)\n",
      "      (relu): ReLU(inplace=True)\n",
      "      (conv2): Conv2d(256, 256, kernel_size=(3, 3), stride=(1, 1), padding=(1, 1), bias=False)\n",
      "      (bn2): BatchNorm2d(256, eps=1e-05, momentum=0.1, affine=True, track_running_stats=True)\n",
      "      (downsample): Sequential(\n",
      "        (0): Conv2d(128, 256, kernel_size=(1, 1), stride=(2, 2), bias=False)\n",
      "        (1): BatchNorm2d(256, eps=1e-05, momentum=0.1, affine=True, track_running_stats=True)\n",
      "      )\n",
      "    )\n",
      "    (1): BasicBlock(\n",
      "      (conv1): Conv2d(256, 256, kernel_size=(3, 3), stride=(1, 1), padding=(1, 1), bias=False)\n",
      "      (bn1): BatchNorm2d(256, eps=1e-05, momentum=0.1, affine=True, track_running_stats=True)\n",
      "      (relu): ReLU(inplace=True)\n",
      "      (conv2): Conv2d(256, 256, kernel_size=(3, 3), stride=(1, 1), padding=(1, 1), bias=False)\n",
      "      (bn2): BatchNorm2d(256, eps=1e-05, momentum=0.1, affine=True, track_running_stats=True)\n",
      "    )\n",
      "  )\n",
      "  (layer4): Sequential(\n",
      "    (0): BasicBlock(\n",
      "      (conv1): Conv2d(256, 512, kernel_size=(3, 3), stride=(2, 2), padding=(1, 1), bias=False)\n",
      "      (bn1): BatchNorm2d(512, eps=1e-05, momentum=0.1, affine=True, track_running_stats=True)\n",
      "      (relu): ReLU(inplace=True)\n",
      "      (conv2): Conv2d(512, 512, kernel_size=(3, 3), stride=(1, 1), padding=(1, 1), bias=False)\n",
      "      (bn2): BatchNorm2d(512, eps=1e-05, momentum=0.1, affine=True, track_running_stats=True)\n",
      "      (downsample): Sequential(\n",
      "        (0): Conv2d(256, 512, kernel_size=(1, 1), stride=(2, 2), bias=False)\n",
      "        (1): BatchNorm2d(512, eps=1e-05, momentum=0.1, affine=True, track_running_stats=True)\n",
      "      )\n",
      "    )\n",
      "    (1): BasicBlock(\n",
      "      (conv1): Conv2d(512, 512, kernel_size=(3, 3), stride=(1, 1), padding=(1, 1), bias=False)\n",
      "      (bn1): BatchNorm2d(512, eps=1e-05, momentum=0.1, affine=True, track_running_stats=True)\n",
      "      (relu): ReLU(inplace=True)\n",
      "      (conv2): Conv2d(512, 512, kernel_size=(3, 3), stride=(1, 1), padding=(1, 1), bias=False)\n",
      "      (bn2): BatchNorm2d(512, eps=1e-05, momentum=0.1, affine=True, track_running_stats=True)\n",
      "    )\n",
      "  )\n",
      "  (avgpool): AdaptiveAvgPool2d(output_size=(1, 1))\n",
      "  (fc): Linear(in_features=512, out_features=1000, bias=True)\n",
      ")\n"
     ]
    }
   ],
   "source": [
    "# 檢視 ResNet18 模型結構\n",
    "net = models.resnet18()\n",
    "print(net)"
   ]
  },
  {
   "cell_type": "code",
   "execution_count": 38,
   "metadata": {},
   "outputs": [],
   "source": [
    "class ResNet(nn.Module):\n",
    "    def __init__(self, num_classes):\n",
    "        super(ResNet, self).__init__()\n",
    "        self.resnet = models.resnet18(pretrained=True)\n",
    "        \n",
    "        # Modify the first layer to accept single-channel input\n",
    "        self.resnet.conv1 = nn.Conv2d(1, 64, kernel_size=7, stride=2, padding=3, bias=False)\n",
    "        \n",
    "        # Freeze the layers except the new conv1 and the classification layer\n",
    "        for name, param in self.resnet.named_parameters():\n",
    "            if 'conv1' in name:\n",
    "                param.requires_grad = True\n",
    "            else:\n",
    "                param.requires_grad = False\n",
    "        \n",
    "        # Modify the classification layer\n",
    "        self.classifier = nn.Linear(self.resnet.fc.out_features, num_classes)\n",
    "        \n",
    "    def forward(self, x):\n",
    "        x = self.resnet(x)\n",
    "        x = self.classifier(x)\n",
    "        return x\n"
   ]
  },
  {
   "cell_type": "code",
   "execution_count": 39,
   "metadata": {},
   "outputs": [
    {
     "name": "stderr",
     "output_type": "stream",
     "text": [
      "/Users/howard/miniconda3/envs/texture/lib/python3.10/site-packages/torchvision/models/_utils.py:208: UserWarning: The parameter 'pretrained' is deprecated since 0.13 and may be removed in the future, please use 'weights' instead.\n",
      "  warnings.warn(\n",
      "/Users/howard/miniconda3/envs/texture/lib/python3.10/site-packages/torchvision/models/_utils.py:223: UserWarning: Arguments other than a weight enum or `None` for 'weights' are deprecated since 0.13 and may be removed in the future. The current behavior is equivalent to passing `weights=ResNet18_Weights.IMAGENET1K_V1`. You can also use `weights=ResNet18_Weights.DEFAULT` to get the most up-to-date weights.\n",
      "  warnings.warn(msg)\n"
     ]
    },
    {
     "name": "stdout",
     "output_type": "stream",
     "text": [
      "Epoch [1/10], Loss: 0.5922\n",
      "Epoch [2/10], Loss: 0.6332\n",
      "Epoch [3/10], Loss: 0.1445\n",
      "Epoch [4/10], Loss: 0.0990\n",
      "Epoch [5/10], Loss: 0.0346\n",
      "Epoch [6/10], Loss: 0.4774\n",
      "Epoch [7/10], Loss: 0.7019\n",
      "Epoch [8/10], Loss: 0.0498\n",
      "Epoch [9/10], Loss: 0.0538\n",
      "Epoch [10/10], Loss: 0.2409\n"
     ]
    }
   ],
   "source": [
    "device = torch.device(\"cuda\" if torch.cuda.is_available() else \"cpu\")\n",
    "# Define the model\n",
    "num_classes = 6\n",
    "model = ResNet(num_classes).to(device)\n",
    "\n",
    "criterion = nn.CrossEntropyLoss()\n",
    "# optimizer = torch.optim.Adam(model.parameters(), lr=0.0001)\n",
    "# Define the optimizer for fine-tuning using Adam with a single learning rate\n",
    "fine_tune_params = list(model.resnet.conv1.parameters()) + list(model.classifier.parameters())\n",
    "optimizer = torch.optim.Adam(fine_tune_params, lr=0.001, betas=(0.9, 0.999))\n",
    "\n",
    "loss_list = []\n",
    "\n",
    "for epoch in range(EPOCHS):\n",
    "    model.train()\n",
    "    for images, labels in train_dataloader:\n",
    "        images = images.to(device)\n",
    "        labels = labels.to(device)\n",
    "        \n",
    "        optimizer.zero_grad()\n",
    "        outputs = model(images)\n",
    "        loss = criterion(outputs, labels)\n",
    "        loss.backward()\n",
    "        optimizer.step()\n",
    "    loss_list.append(loss.item())\n",
    "    if (epoch+1) % 1 == 0 or epoch == 0:\n",
    "        print(f'Epoch [{epoch+1}/{EPOCHS}], Loss: {loss.item():.4f}')"
   ]
  },
  {
   "cell_type": "code",
   "execution_count": 40,
   "metadata": {},
   "outputs": [
    {
     "data": {
      "image/png": "[encoded data removed]",
      "text/plain": [
       "<Figure size 576x360 with 1 Axes>"
      ]
     },
     "metadata": {},
     "output_type": "display_data"
    }
   ],
   "source": [
    "fig = plt.figure(figsize=(8, 5))\n",
    "fig.add_subplot(2,2,(1,4))\n",
    "plt.style.use(\"ggplot\")\n",
    "\n",
    "plt.plot(range(1, EPOCHS+1), loss_list, label=\"train_loss\")\n",
    "\n",
    "plt.xlabel(\"Epoch #\")\n",
    "plt.ylabel(\"Loss\")\n",
    "plt.legend(loc=\"upper right\")\n",
    "\n",
    "plt.show()"
   ]
  },
  {
   "cell_type": "code",
   "execution_count": 42,
   "metadata": {},
   "outputs": [],
   "source": [
    "torch.save(model, 'model/ResNet18_epoch10_local.pt')"
   ]
  },
  {
   "cell_type": "markdown",
   "metadata": {},
   "source": [
    "## 5. ResNet18 with PSPNet v1 idea\n",
    "- first layer 3 channels change to 1 channel\n",
    "- last append Pyramid Pooling layers, Onebyone Conv and Upsampling before ResNet18 layer4\n",
    "- Conv + Linear to classify\n",
    "- Train above 3 layers, other layer use pretrained ResNet18"
   ]
  },
  {
   "cell_type": "code",
   "execution_count": 60,
   "metadata": {},
   "outputs": [],
   "source": [
    "class ResNetPSPNet(nn.Module):\n",
    "    def __init__(self, num_classes):\n",
    "        super(ResNetPSPNet, self).__init__()\n",
    "        self.resnet = models.resnet18(pretrained=True)\n",
    "        \n",
    "        # Modify the first layer to accept single-channel input\n",
    "        self.resnet.conv1 = nn.Conv2d(1, 64, kernel_size=7, stride=2, padding=3, bias=False)\n",
    "        \n",
    "        # Freeze the layers except the new conv1 and the classification layer\n",
    "        for name, param in self.resnet.named_parameters():\n",
    "            if 'conv1' in name:\n",
    "                param.requires_grad = True\n",
    "            else:\n",
    "                param.requires_grad = False\n",
    "        \n",
    "        # Spatial Pyramid Pooling layers\n",
    "        self.pool1 = nn.AdaptiveMaxPool2d((1, 1)) # output size (N, 512, 1, 1)\n",
    "        self.pool2 = nn.AdaptiveMaxPool2d((2, 2)) # output size (N, 512, 2, 2)\n",
    "        self.pool3 = nn.AdaptiveMaxPool2d((3, 3)) # output size (N, 512, 3, 3)\n",
    "        self.pool4 = nn.AdaptiveMaxPool2d((6, 6)) # output size (N, 512, 6, 6)\n",
    "        self.onebyonecon1 = nn.Conv2d(in_channels=512, out_channels=1, kernel_size=1, stride=1, padding=0) # output size (N, 1, 1, 1)\n",
    "        self.onebyonecon2 = nn.Conv2d(in_channels=512, out_channels=1, kernel_size=1, stride=1, padding=0) # output size (N, 1, 2, 2)\n",
    "        self.onebyonecon3 = nn.Conv2d(in_channels=512, out_channels=1, kernel_size=1, stride=1, padding=0) # output size (N, 1, 3, 3)\n",
    "        self.onebyonecon4 = nn.Conv2d(in_channels=512, out_channels=1, kernel_size=1, stride=1, padding=0) # output size (N, 1, 6, 6)\n",
    "        # Upsampling layers\n",
    "        self.upsample1 = nn.Upsample(scale_factor=16/1, mode='bilinear', align_corners=True) # output size (N, 1, 16, 16)\n",
    "        self.upsample2 = nn.Upsample(scale_factor=16/2, mode='bilinear', align_corners=True) # output size (N, 1, 16, 16)\n",
    "        self.upsample3 = nn.Upsample(scale_factor=16/3, mode='bilinear', align_corners=True) # output size (N, 1, 16, 16)\n",
    "        self.upsample4 = nn.Upsample(scale_factor=16/6, mode='bilinear', align_corners=True) # output size (N, 1, 16, 16)\n",
    "        # Conv Classifier layers\n",
    "        self.classifier = nn.Sequential(\n",
    "            nn.Conv2d(in_channels=516, out_channels=128, kernel_size=3, stride=2, padding=1), # output size (N, 128, 8, 8)\n",
    "            nn.ReLU(),\n",
    "            nn.MaxPool2d(2), # output size (N, 128, 4, 4)\n",
    "            nn.Conv2d(in_channels=128, out_channels=64, kernel_size=3, stride=2, padding=1), # output size (N, 64, 2, 2)\n",
    "            nn.ReLU(),\n",
    "            nn.MaxPool2d(2), # output size (N, 64, 1, 1)\n",
    "            nn.Flatten(), # output size (N, 64 * 1 * 1)\n",
    "            nn.Linear(64, num_classes), # output size (N, 6)\n",
    "            nn.Sigmoid(),\n",
    "        )\n",
    "        \n",
    "    def forward(self, x):\n",
    "        x = self.resnet.conv1(x)\n",
    "        x = self.resnet.bn1(x)\n",
    "        x = self.resnet.relu(x)\n",
    "        x = self.resnet.maxpool(x)\n",
    "\n",
    "        x = self.resnet.layer1(x)\n",
    "        x = self.resnet.layer2(x)\n",
    "        x = self.resnet.layer3(x)\n",
    "        x = self.resnet.layer4(x)\n",
    "        \n",
    "        # Spatial Pyramid Pooling\n",
    "        x1 = self.pool1(x)\n",
    "        x1 = self.onebyonecon1(x1) \n",
    "        x2 = self.pool2(x)\n",
    "        x2 = self.onebyonecon2(x2)\n",
    "        x3 = self.pool3(x)\n",
    "        x3 = self.onebyonecon3(x3)\n",
    "        x4 = self.pool4(x)\n",
    "        x4 = self.onebyonecon4(x4)\n",
    "        \n",
    "        # Upsampling\n",
    "        x1 = self.upsample1(x1)\n",
    "        x2 = self.upsample2(x2)\n",
    "        x3 = self.upsample3(x3)\n",
    "        x4 = self.upsample4(x4)\n",
    "        \n",
    "        # Concatenate the pooled features\n",
    "        x = torch.cat((x1, x2, x3, x4, x), dim=1) # output size (N, 516, 16, 16)\n",
    "        \n",
    "        # Classifier\n",
    "        x = self.classifier(x)\n",
    "        \n",
    "        return x"
   ]
  },
  {
   "cell_type": "code",
   "execution_count": null,
   "metadata": {},
   "outputs": [],
   "source": [
    "device = torch.device(\"cuda\" if torch.cuda.is_available() else \"cpu\")\n",
    "# Define the model\n",
    "num_classes = 6\n",
    "model = ResNetPSPNet(num_classes).to(device)\n",
    "\n",
    "criterion = nn.CrossEntropyLoss()\n",
    "# optimizer = torch.optim.Adam(model.parameters(), lr=0.0001)\n",
    "# Define the optimizer for fine-tuning using Adam with a single learning rate\n",
    "\n",
    "# Create a list of parameters to optimize (conv1 and classifier)\n",
    "parameters_to_optimize = [\n",
    "    {'params': model.resnet.conv1.parameters()},\n",
    "    {'params': model.onebyonecon1.parameters()},\n",
    "    {'params': model.onebyonecon2.parameters()},\n",
    "    {'params': model.onebyonecon3.parameters()},\n",
    "    {'params': model.onebyonecon4.parameters()},\n",
    "    {'params': model.classifier.parameters()},\n",
    "    \n",
    "]\n",
    "optimizer = torch.optim.Adam(parameters_to_optimize, lr=0.001, betas=(0.9, 0.999))\n",
    "\n",
    "loss_list = []\n",
    "\n",
    "for epoch in range(EPOCHS):\n",
    "    model.train()\n",
    "    for images, labels in tqdm(train_dataloader):\n",
    "        images = images.to(device)\n",
    "        labels = labels.to(device)\n",
    "        \n",
    "        optimizer.zero_grad()\n",
    "        outputs = model(images)\n",
    "        loss = criterion(outputs, labels)\n",
    "        loss.backward()\n",
    "        optimizer.step()\n",
    "    loss_list.append(loss.item())\n",
    "    if (epoch+1) % 1 == 0 or epoch == 0:\n",
    "        print(f'Epoch [{epoch+1}/{EPOCHS}], Loss: {loss.item():.4f}')"
   ]
  },
  {
   "cell_type": "markdown",
   "metadata": {},
   "source": [
    "## # Validation"
   ]
  },
  {
   "cell_type": "code",
   "execution_count": 77,
   "metadata": {},
   "outputs": [],
   "source": [
    "def validate(model_path, csv_filename):\n",
    "    device = torch.device(\"cuda\" if torch.cuda.is_available() else \"cpu\")\n",
    "    if device.type == 'cuda':\n",
    "        model = torch.load(model_path)\n",
    "    else:\n",
    "        model = torch.load(model_path, map_location=torch.device('cpu'))\n",
    "    model.eval()\n",
    "    correct = 0\n",
    "    total = 0\n",
    "    predicted_list = []\n",
    "    with torch.no_grad():\n",
    "        for images, labels in tqdm(test_dataloader):\n",
    "            images = images.to(device)\n",
    "            labels = labels.to(device)\n",
    "            outputs = model(images)\n",
    "            _, predicted = torch.max(outputs.data, 1)\n",
    "            predicted_list.append(predicted.item())\n",
    "            \n",
    "    test_df['Label'] = predicted_list\n",
    "    test_df.to_csv(f'result/predict_{csv_filename}.csv', index=False)"
   ]
  },
  {
   "cell_type": "code",
   "execution_count": 79,
   "metadata": {},
   "outputs": [],
   "source": [
    "def train_accuracy(model_path):\n",
    "    device = torch.device(\"cuda\" if torch.cuda.is_available() else \"cpu\")\n",
    "    if device.type == 'cuda':\n",
    "        model = torch.load(model_path)\n",
    "    else:\n",
    "        model = torch.load(model_path, map_location=torch.device('cpu'))\n",
    "    model.eval()\n",
    "    correct = 0\n",
    "    total = 0\n",
    "    with torch.no_grad():\n",
    "        for images, labels in tqdm(train_dataloader):\n",
    "            images = images.to(device)\n",
    "            labels = labels.to(device)\n",
    "            outputs = model(images)\n",
    "            _, predicted = torch.max(outputs.data, 1)\n",
    "            total += labels.size(0)\n",
    "            correct += (predicted == labels).sum().item()\n",
    "        \n",
    "        accuracy = 100 * correct / total\n",
    "        print(f\"{model_path}, Train Accuracy: {accuracy:.2f}%\")"
   ]
  },
  {
   "cell_type": "code",
   "execution_count": 43,
   "metadata": {},
   "outputs": [
    {
     "name": "stdout",
     "output_type": "stream",
     "text": [
      "Train Accuracy: 62.34%\n"
     ]
    }
   ],
   "source": [
    "train_accuracy('model/ResNet18_epoch10_local.pt')"
   ]
  },
  {
   "cell_type": "code",
   "execution_count": 55,
   "metadata": {},
   "outputs": [
    {
     "name": "stderr",
     "output_type": "stream",
     "text": [
      "100%|██████████| 10142/10142 [09:38<00:00, 17.52it/s]\n"
     ]
    }
   ],
   "source": [
    "validate('model/ResNet18_epoch10_local.pt', 'ResNet18_epoch10_local') # test result = 0.5977"
   ]
  },
  {
   "cell_type": "code",
   "execution_count": 47,
   "metadata": {},
   "outputs": [
    {
     "name": "stderr",
     "output_type": "stream",
     "text": [
      "100%|██████████| 141/141 [05:21<00:00,  2.28s/it]"
     ]
    },
    {
     "name": "stdout",
     "output_type": "stream",
     "text": [
      "Kaggle Train Accuracy: 92.29%\n"
     ]
    },
    {
     "name": "stderr",
     "output_type": "stream",
     "text": [
      "\n"
     ]
    }
   ],
   "source": [
    "train_accuracy('model/ResNet18_epoch30_kaggle.pt')"
   ]
  },
  {
   "cell_type": "code",
   "execution_count": 49,
   "metadata": {},
   "outputs": [
    {
     "name": "stderr",
     "output_type": "stream",
     "text": [
      "100%|██████████| 10142/10142 [09:49<00:00, 17.21it/s]\n"
     ]
    }
   ],
   "source": [
    "validate('model/ResNet18_epoch30_kaggle.pt', 'ResNet18_epoch30_kaggle') # test result = 0.8996"
   ]
  },
  {
   "cell_type": "code",
   "execution_count": 81,
   "metadata": {},
   "outputs": [
    {
     "name": "stderr",
     "output_type": "stream",
     "text": [
      "100%|██████████| 141/141 [05:33<00:00,  2.36s/it]"
     ]
    },
    {
     "name": "stdout",
     "output_type": "stream",
     "text": [
      "model/ResNet18_epoch100_kaggle.pt, Train Accuracy: 83.98%\n"
     ]
    },
    {
     "name": "stderr",
     "output_type": "stream",
     "text": [
      "\n"
     ]
    }
   ],
   "source": [
    "train_accuracy('model/ResNet18_epoch100_kaggle.pt')"
   ]
  },
  {
   "cell_type": "code",
   "execution_count": 80,
   "metadata": {},
   "outputs": [
    {
     "name": "stderr",
     "output_type": "stream",
     "text": [
      "100%|██████████| 141/141 [05:33<00:00,  2.36s/it]"
     ]
    },
    {
     "name": "stdout",
     "output_type": "stream",
     "text": [
      "model/ResNetPSPNet_epoch100_kaggle.pt, Train Accuracy: 93.51%\n"
     ]
    },
    {
     "name": "stderr",
     "output_type": "stream",
     "text": [
      "\n"
     ]
    }
   ],
   "source": [
    "train_accuracy('model/ResNetPSPNet_epoch100_kaggle.pt')"
   ]
  },
  {
   "cell_type": "code",
   "execution_count": 82,
   "metadata": {},
   "outputs": [
    {
     "name": "stderr",
     "output_type": "stream",
     "text": [
      "100%|██████████| 10142/10142 [09:49<00:00, 17.21it/s]\n"
     ]
    }
   ],
   "source": [
    "validate('model/ResNetPSPNet_epoch100_kaggle.pt', 'ResNetPSPNet_epoch100_kaggle') # test result ="
   ]
  }
 ],
 "metadata": {
  "kernelspec": {
   "display_name": "texture",
   "language": "python",
   "name": "python3"
  },
  "language_info": {
   "codemirror_mode": {
    "name": "ipython",
    "version": 3
   },
   "file_extension": ".py",
   "mimetype": "text/x-python",
   "name": "python",
   "nbconvert_exporter": "python",
   "pygments_lexer": "ipython3",
   "version": "3.10.4"
  },
  "orig_nbformat": 4
 },
 "nbformat": 4,
 "nbformat_minor": 2
}
